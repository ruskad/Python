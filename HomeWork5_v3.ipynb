{
 "cells": [
  {
   "cell_type": "markdown",
   "metadata": {
    "collapsed": false
   },
   "source": [
    "Домашнее задание к лекции \"Функции\"\n",
    "Вам нужно помочь секретарю автоматизировать работу. Для этого нужно написать программу, которая будет на основе хранимых данных исполнять пользовательские команды.\n",
    "\n",
    "Исходные данные имеют следующую структуру:\n",
    "\n",
    "перечень всех документов\n",
    "documents = [\n",
    " {'type': 'passport', 'number': '2207 876234', 'name': 'Василий Гупкин'},\n",
    " {'type': 'invoice', 'number': '11-2', 'name': 'Геннадий Покемонов'},\n",
    " {'type': 'insurance', 'number': '10006', 'name': 'Аристарх Павлов'}\n",
    "]\n",
    "перечень полок, на которых хранятся документы (если документ есть в documents, то он обязательно должен быть и в directories)\n",
    "directories = {\n",
    " '1': ['2207 876234', '11-2'],\n",
    " '2': ['10006'],\n",
    " '3': []\n",
    "}\n",
    "Общие требования к программе:\n",
    "\n",
    "код должен быть грамотно декомпозирован (каждая функция отвечает за свою конкретную задачу, дублирующийся функционал переиспользуется, а его код не повторяется);\n",
    "в коде отсутствуют глобальные переменные (за исключением documents и directories);\n",
    "пользовательский ввод обрабатывается в цикле while до тех пор, пока пользователь явно не завершит программу (вводом команды \"q\").\n",
    "Задание 1\n",
    "Пункт 1. Пользователь по команде \"p\" может узнать владельца документа по его номеру\n",
    "Примеры работы:\n",
    "\n",
    "1.\n",
    "\n",
    "Введите команду:\n",
    "p\n",
    "\n",
    "Введите номер документа:\n",
    "10006\n",
    "Результат:\n",
    "Владелец документа: Аристарх Павлов\n",
    "\n",
    "2.\n",
    "\n",
    "Введите команду:\n",
    "p\n",
    "\n",
    "Введите номер документа:\n",
    "12345\n",
    "Результат:\n",
    "Документ не найден в базе\n",
    "\n",
    "Пункт 2. Пользователь по команде \"s\" может по номеру документа узнать на какой полке он хранится\n",
    "Примеры работы:\n",
    "\n",
    "1.\n",
    "\n",
    "Введите команду:\n",
    "s\n",
    "\n",
    "Введите номер документа:\n",
    "10006\n",
    "Результат:\n",
    "Документ хранится на полке: 2\n",
    "\n",
    "2.\n",
    "\n",
    "Введите команду:\n",
    "p\n",
    "\n",
    "Введите номер документа:\n",
    "12345\n",
    "Результат:\n",
    "Документ не найден в базе\n",
    "\n",
    "Пункт 3. Пользователь по команде \"l\" может увидеть полную информацию по всем документам\n",
    "Пример работы:\n",
    "\n",
    "Введите команду:\n",
    "l\n",
    "Результат:\n",
    "\n",
    "№: 2207 876234, тип: passport, владелец: Василий Гупкин, полка хранения: 1\n",
    "№: 11-2, тип: invoice, владелец: Геннадий Покемонов, полка хранения: 1\n",
    "№: 10006, тип: insurance, владелец: Аристарх Павлов, полка хранения: 2\n",
    "Пункт 4. Пользователь по команде \"ads\" может добавить новую полку\n",
    "Примеры работы:\n",
    "\n",
    "1.\n",
    "\n",
    "Введите команду:\n",
    "ads\n",
    "\n",
    "Введите номер полки:\n",
    "10\n",
    "Результат:\n",
    "Полка добавлена. Текущий перечень полок: 1, 2, 3, 10.\n",
    "\n",
    "2.\n",
    "\n",
    "Введите команду:\n",
    "ads\n",
    "\n",
    "Введите номер полки:\n",
    "1\n",
    "Результат:\n",
    "Такая полка уже существует. Текущий перечень полок: 1, 2, 3.\n",
    "\n",
    "Пункт 5. Пользователь по команде \"ds\" может удалить существующую полку из данных (только если она пустая)\n",
    "Примеры работы:\n",
    "\n",
    "1.\n",
    "\n",
    "Введите команду:\n",
    "ds\n",
    "\n",
    "Введите номер полки:\n",
    "3\n",
    "Результат:\n",
    "Полка удалена. Текущий перечень полок: 1, 2.\n",
    "\n",
    "2.\n",
    "\n",
    "Введите команду:\n",
    "ds\n",
    "\n",
    "Введите номер полки:\n",
    "1\n",
    "Результат:\n",
    "На полке есть документа, удалите их перед удалением полки. Текущий перечень полок: 1, 2, 3.\n",
    "\n",
    "3.\n",
    "\n",
    "Введите команду:\n",
    "ds\n",
    "\n",
    "Введите номер полки:\n",
    "4\n",
    "Результат:\n",
    "Такой полки не существует. Текущий перечень полок: 1, 2, 3."
   ]
  },
  {
   "cell_type": "code",
   "execution_count": 1,
   "metadata": {
    "collapsed": false
   },
   "outputs": [
   ],
   "source": [
    "documents = [\n",
    " {'type': 'passport', 'number': '2207 876234', 'name': 'Василий Гупкин'},\n",
    " {'type': 'invoice', 'number': '11-2', 'name': 'Геннадий Покемонов'},\n",
    " {'type': 'insurance', 'number': '10006', 'name': 'Аристарх Павлов'}\n",
    "]\n",
    "\n",
    "directories = {\n",
    " '1': ['2207 876234', '11-2'],\n",
    " '2': ['10006'],\n",
    " '3': []\n",
    "}\n"
   ]
  },
  {
   "cell_type": "code",
   "execution_count": 2,
   "metadata": {
    "collapsed": false
   },
   "outputs": [
   ],
   "source": [
    "# пункт 1. Узнать владельца документа по его номеру\n",
    "def know_person_by_number(documents):\n",
    "    user_input = input ('Введите номер документа ')\n",
    "    for document in documents:\n",
    "        if user_input == document['number']:\n",
    "            return(document['name'])\n",
    "    else:\n",
    "        return f\"Документ не найден в базе\""
   ]
  },
  {
   "cell_type": "code",
   "execution_count": 3,
   "metadata": {
    "collapsed": false
   },
   "outputs": [
   ],
   "source": [
    "# пункт 2. По номеру документа узнать на какой полке он хранится\n",
    "def know_shelf_by_number(directories):\n",
    "    user_input = input ('Введите номер документа ')\n",
    "    found = 0\n",
    "    number_shelf = 0\n",
    "    for shelf, docs in directories.items():\n",
    "        if user_input in docs:\n",
    "            found += 1\n",
    "            number_shelf += int(shelf)\n",
    "            return f\"Документ хранится на полке: {number_shelf}\"\n",
    "        else:\n",
    "            return f\"Документ не найден в базе\""
   ]
  },
  {
   "cell_type": "code",
   "execution_count": 4,
   "metadata": {
    "collapsed": false
   },
   "outputs": [
   ],
   "source": [
    "# Пункт 3. Пользователь по команде \"l\" может увидеть полную информацию по всем документам\n",
    "def know_all_info_by_all_numbers(documents):    \n",
    "    result = \"\"\n",
    "    for doc in documents:\n",
    "        result += f\"№: {doc['number']}, тип: {doc['type']}, владелец: {doc['name']}; \"\n",
    "    return result"
   ]
  },
  {
   "cell_type": "code",
   "execution_count": 5,
   "metadata": {
    "collapsed": false
   },
   "outputs": [
   ],
   "source": [
    "# пункт 4. Пользователь по команде \"ads\" может добавить новую полку\n",
    "def add_new_shelf(directories):\n",
    "    user_input = input('Введите номер полки: ')\n",
    "    for key in directories.keys():\n",
    "        if user_input in directories.keys():\n",
    "            return f\"Такая полка уже существует\"\n",
    "        else:\n",
    "            directories[user_input] = []\n",
    "            return f\"Полка добавлена. Текущий перечень полок: {list(directories.keys())}\""
   ]
  },
  {
   "cell_type": "code",
   "execution_count": 6,
   "metadata": {
    "collapsed": false
   },
   "outputs": [
   ],
   "source": [
    "5. # Пользователь по команде \"ds\" может удалить существующую полку из данных (только если она пустая)\n",
    "def del_shelf(directories):\n",
    "    number = input('Введите номер полки: ')\n",
    "    if number not in list(directories.keys()):\n",
    "        return f\"Такой полки не существует. Текущий перечень полок: {list(directories.keys())}\"\n",
    "    elif number in list(directories.keys()) and directories[number] == []:\n",
    "        del directories[number]\n",
    "        return f\"Полка удалена. Текущий перечень полок: {list(directories.keys())}\"\n",
    "    else:\n",
    "        return f\"На полке есть документы, удалите их перед удалением полки. Текущий перечень полок: {list(directories.keys())}\""
   ]
  },
  {
   "cell_type": "code",
   "execution_count": 7,
   "metadata": {
    "collapsed": false
   },
   "outputs": [
   ],
   "source": [
    "def main():\n",
    "    while True:\n",
    "        user_input = input('Введите команду ')\n",
    "        if user_input == 'p':\n",
    "            print(know_person_by_number(documents))\n",
    "        elif user_input == 's':\n",
    "            print(know_shelf_by_number(directories))\n",
    "        elif user_input == 'l':\n",
    "            print(know_all_info_by_all_numbers(documents))\n",
    "        elif user_input == 'ads':\n",
    "            print(add_new_shelf(directories))\n",
    "        elif user_input == 'ds':\n",
    "            print(del_shelf(directories))\n",
    "        elif user_input == 'q':\n",
    "            print('Спасибо за обращение!')\n",
    "            break"
   ]
  },
  {
   "cell_type": "code",
   "execution_count": 10,
   "metadata": {
    "cocalc": {
     "outputs": {
      "0": {
       "name": "input",
       "opts": {
        "password": false,
        "prompt": "Введите команду "
       },
       "output_type": "stream",
       "value": "ds"
      },
      "1": {
       "name": "input",
       "opts": {
        "password": false,
        "prompt": "Введите номер полки: "
       },
       "output_type": "stream",
       "value": "9"
      },
      "2": {
       "name": "input",
       "opts": {
        "password": false,
        "prompt": "Введите команду "
       },
       "output_type": "stream"
      },
      "3": {
       "name": "input",
       "opts": {
        "password": false,
        "prompt": "Введите команду "
       },
       "output_type": "stream",
       "value": "ds"
      },
      "4": {
       "name": "input",
       "opts": {
        "password": false,
        "prompt": "Введите номер полки: "
       },
       "output_type": "stream",
       "value": "1"
      },
      "6": {
       "name": "input",
       "opts": {
        "password": false,
        "prompt": "Введите команду "
       },
       "output_type": "stream",
       "value": "ds"
      },
      "7": {
       "name": "input",
       "opts": {
        "password": false,
        "prompt": "Введите номер полки: "
       },
       "output_type": "stream"
      }
     }
    },
    "collapsed": false
   },
   "outputs": [
    {
     "name": "stdout",
     "output_type": "stream",
     "text": "Введите команду  ds"
    },
    {
     "name": "stdout",
     "output_type": "stream",
     "text": "Введите номер полки:  9"
    },
    {
     "name": "stdout",
     "output_type": "stream",
     "text": [
      "Такой полки не существует. Текущий перечень полок: ['1', '2', '3', '6']\n"
     ]
    },
    {
     "name": "stdout",
     "output_type": "stream",
     "text": "Введите команду  ds"
    },
    {
     "name": "stdout",
     "output_type": "stream",
     "text": "Введите номер полки:  1"
    },
    {
     "name": "stdout",
     "output_type": "stream",
     "text": [
      "На полке есть документы, удалите их перед удалением полки. Текущий перечень полок: ['1', '2', '3', '6']\n"
     ]
    },
    {
     "name": "stdout",
     "output_type": "stream",
     "text": "Введите команду  ds"
    },
    {
     "name": "stdout",
     "output_type": "stream",
     "text": "Введите номер полки:  "
    }
   ],
   "source": [
    "main()"
   ]
  },
  {
   "cell_type": "code",
   "execution_count": 0,
   "metadata": {
    "collapsed": false
   },
   "outputs": [
   ],
   "source": [
   ]
  },
  {
   "cell_type": "code",
   "execution_count": 0,
   "metadata": {
    "collapsed": false
   },
   "outputs": [
   ],
   "source": [
   ]
  },
  {
   "cell_type": "code",
   "execution_count": 0,
   "metadata": {
    "collapsed": false
   },
   "outputs": [
   ],
   "source": [
   ]
  }
 ],
 "metadata": {
  "kernelspec": {
   "display_name": "Python 3 (system-wide)",
   "language": "python",
   "metadata": {
    "cocalc": {
     "description": "Python 3 programming language",
     "priority": 100,
     "url": "https://www.python.org/"
    }
   },
   "name": "python3"
  },
  "language_info": {
   "codemirror_mode": {
    "name": "ipython",
    "version": 3
   },
   "file_extension": ".py",
   "mimetype": "text/x-python",
   "name": "python",
   "nbconvert_exporter": "python",
   "pygments_lexer": "ipython3",
   "version": "3.6.9"
  }
 },
 "nbformat": 4,
 "nbformat_minor": 4
}