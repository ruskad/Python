{
 "cells": [
  {
   "cell_type": "markdown",
   "metadata": {},
   "source": [
    "\n",
    "Задание 1. Даны 2 строки: long_phrase и short_phrase. Напишите код, который проверяет действительно ли длинная фраза long_phrase длиннее короткой short_phrase. И выводит True или False в зависимости от результата сравнения."
   ]
  },
  {
   "cell_type": "code",
   "execution_count": 62,
   "metadata": {},
   "outputs": [],
   "source": [
    "long_phrase = 'Насколько проще было бы писать программы, если бы не заказчики'\n",
    "short_phrase = '640Кб должно хватить для любых задач. Билл Гейтс (по легенде)'"
   ]
  },
  {
   "cell_type": "code",
   "execution_count": 63,
   "metadata": {},
   "outputs": [
    {
     "data": {
      "text/plain": [
       "True"
      ]
     },
     "execution_count": 63,
     "metadata": {},
     "output_type": "execute_result"
    }
   ],
   "source": [
    "len (long_phrase) > len (short_phrase)"
   ]
  },
  {
   "cell_type": "markdown",
   "metadata": {},
   "source": [
    "Задание 2. Дано значение объема файла в байтах (в мегабайте 2^20 байт). Напишите перевод этого значения в мегабайты в формате: \"Объем файла равен 213.68Mb\"."
   ]
  },
  {
   "cell_type": "code",
   "execution_count": 56,
   "metadata": {},
   "outputs": [
    {
     "name": "stdout",
     "output_type": "stream",
     "text": [
      "Введите размер файла в байтах 1048576\n",
      "Объем файла равен  1.0 Mb\n"
     ]
    }
   ],
   "source": [
    "user_input = int (input ('Введите размер файла в байтах '))\n",
    "b = user_input / ( 2 ** 20 )\n",
    "c = round (b, 2)\n",
    "print ('Объем файла равен ', c, 'Mb')"
   ]
  },
  {
   "cell_type": "markdown",
   "metadata": {},
   "source": [
    "Задание 3. Разработать приложение для определения знака зодиака по дате рождения. Пример:\n",
    "\n",
    "Введите месяц: март\n",
    "\n",
    "Введите число: 6\n",
    "\n",
    "Вывод: Рыбы"
   ]
  },
  {
   "cell_type": "code",
   "execution_count": 48,
   "metadata": {},
   "outputs": [
    {
     "name": "stdout",
     "output_type": "stream",
     "text": [
      "Введите месяц: октябрь\n",
      "Введите число: 30\n",
      "Скорпион\n"
     ]
    }
   ],
   "source": [
    "user_inpute_m = input ('Введите месяц: ')\n",
    "user_inpute_d = input ('Введите число: ')\n",
    "if (user_inpute_m == 'март' and '21' <= user_inpute_d <= '31') or (user_inpute_m == 'апрель' and '1' <= user_inpute_d <= '19'):\n",
    "    print ('Овен')\n",
    "elif (user_inpute_m == 'апрель' and '20' <= user_inpute_d <= '30') or (user_inpute_m == 'май' and '1' <= user_inpute_d <= '20'):\n",
    "    print ('Телец')\n",
    "elif (user_inpute_m == 'май' and '21' <= user_inpute_d <= '31') or (user_inpute_m == 'июнь' and '1' <= user_inpute_d <= '20'):\n",
    "    print ('Близнецы')\n",
    "elif (user_inpute_m == 'июнь' and '21' <= user_inpute_d <= '30') or (user_inpute_m == 'июнь' and '1' <= user_inpute_d <= '22'):\n",
    "    print ('Рак')\n",
    "elif (user_inpute_m == 'июль' and '23' <= user_inpute_d <= '31') or (user_inpute_m == 'август' and '1' <= user_inpute_d <= '22'):\n",
    "    print ('Лев')\n",
    "elif (user_inpute_m == 'август' and '22' <= user_inpute_d <= '31') or (user_inpute_m == 'сентябрь' and '1' <= user_inpute_d <= '21'):\n",
    "    print ('Дева')\n",
    "elif (user_inpute_m == 'сентябрь' and '22' <= user_inpute_d <= '30') or (user_inpute_m == 'октябрь' and '1' <= user_inpute_d <= '22'):\n",
    "    print ('Весы')    \n",
    "elif (user_inpute_m == 'октябрь' and '23' <= user_inpute_d <= '31') or (user_inpute_m == 'ноябрь' and '1' <= user_inpute_d <= '21'):\n",
    "    print ('Скорпион')    \n",
    "elif (user_inpute_m == 'ноябрь' and '22' <= user_inpute_d <= '30') or (user_inpute_m == 'декабрь' and '1' <= user_inpute_d <= '22'):\n",
    "    print ('Стрелец')    \n",
    "elif (user_inpute_m == 'декабрь' and '23' <= user_inpute_d <= '31') or (user_inpute_m == 'январь' and '1' <= user_inpute_d <= '19'):\n",
    "    print ('Козерог')   \n",
    "elif (user_inpute_m == 'январь' and '20' <= user_inpute_d <= '30') or (user_inpute_m == 'февраль' and '1' <= user_inpute_d <= '18'):\n",
    "    print ('Водолей')   \n",
    "elif (user_inpute_m == 'февраль' and '19' <= user_inpute_d <= '29') or (user_inpute_m == 'март' and '1' <= user_inpute_d <= '20'):\n",
    "    print ('Рыбы')    \n",
    "else:\n",
    "    print ('Некорректные данные')\n",
    "   "
   ]
  },
  {
   "cell_type": "markdown",
   "metadata": {},
   "source": [
    "Задание 4. Нужно разработать приложение для финансового планирования. Приложение учитывает сколько уходит на ипотеку, \"на жизнь\" и сколько нужно отложить на пенсию. Пользователь вводит:\n",
    "\n",
    "заработанную плату в месяц.\n",
    "сколько процентов от ЗП уходит на ипотеку.\n",
    "сколько процентов от ЗП уходит \"на жизнь\".\n",
    "сколько раз приходит премия в год.\n",
    "Остальная часть заработанной платы откладывается на пенсию.\n",
    "\n",
    "Также пользователю приходит премия в размере зарплаты, от которой половина уходит на отпуск, а вторая половина откладывается.\n",
    "\n",
    "Программа должна учитывать сколько премий было в год.\n",
    "\n",
    "Нужно вывести сколько денег тратит пользователь на ипотеку и сколько он накопит за год.\n",
    "\n",
    "Пример:\n",
    "\n",
    "Введите заработанную плату в месяц: 100000\n",
    "\n",
    "Введите сколько процентов уходит на ипотеку: 30\n",
    "\n",
    "Введите сколько процентов уходит на жизнь: 50\n",
    "\n",
    "Введите количество премий за год: 2\n",
    "\n",
    "Вывод: На ипотеку было потрачено: 360000 рублей Было накоплено: 340000 рублей"
   ]
  },
  {
   "cell_type": "code",
   "execution_count": 57,
   "metadata": {},
   "outputs": [
    {
     "name": "stdout",
     "output_type": "stream",
     "text": [
      "Введите заработную плату в месяц 100000\n",
      "Введите процент от ЗП на ипотеку 30\n",
      "Введите процент от ЗП на жизнь 50\n",
      "Введите количество премий за год 2\n",
      "На ипотеку потрачено:  360000.0 рублей Накоплено:  340000.0 рублей\n"
     ]
    }
   ],
   "source": [
    "user_input_salary = int (input ('Введите заработную плату в месяц '))\n",
    "user_input_morgage = int (input ('Введите процент от ЗП на ипотеку '))\n",
    "user_input_cost = int (input ('Введите процент от ЗП на жизнь '))\n",
    "user_input_number_of_bonus = int (input ('Введите количество премий за год '))\n",
    "a = user_input_salary * user_input_morgage / 100 * 12 # вычислияем траты на ипотеку\n",
    "b = user_input_salary * (100 - user_input_morgage - user_input_cost) / 100 * 12 # вычисляем остаток от зарплаты за год\n",
    "c = user_input_salary / 2 * user_input_number_of_bonus # вычисляем премию за год\n",
    "d = b + c\n",
    "print ('На ипотеку потрачено: ', a, 'рублей', 'Накоплено: ', d, 'рублей')\n"
   ]
  },
  {
   "cell_type": "code",
   "execution_count": null,
   "metadata": {},
   "outputs": [],
   "source": []
  },
  {
   "cell_type": "code",
   "execution_count": null,
   "metadata": {},
   "outputs": [],
   "source": []
  },
  {
   "cell_type": "code",
   "execution_count": null,
   "metadata": {},
   "outputs": [],
   "source": []
  }
 ],
 "metadata": {
  "kernelspec": {
   "display_name": "Python 3",
   "language": "python",
   "name": "python3"
  },
  "language_info": {
   "codemirror_mode": {
    "name": "ipython",
    "version": 3
   },
   "file_extension": ".py",
   "mimetype": "text/x-python",
   "name": "python",
   "nbconvert_exporter": "python",
   "pygments_lexer": "ipython3",
   "version": "3.7.6"
  }
 },
 "nbformat": 4,
 "nbformat_minor": 4
}
